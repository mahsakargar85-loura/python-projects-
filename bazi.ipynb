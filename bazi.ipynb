{
 "cells": [
  {
   "cell_type": "code",
   "execution_count": null,
   "metadata": {},
   "outputs": [],
   "source": []
  },
  {
   "cell_type": "code",
   "execution_count": null,
   "metadata": {},
   "outputs": [
    {
     "name": "stdout",
     "output_type": "stream",
     "text": [
      "YOU: ( 0 )       COM:( 0 ) kaqaz\n",
      "YOU: ( 0 )       COM:( 0 ) qeychi\n",
      "YOU: ( 1 ) sang      COM:( 0 ) qeychi\n"
     ]
    }
   ],
   "source": [
    "import random \n",
    "\n",
    "bazi=['sang','kaqaz','qeychi'] \n",
    "\n",
    "you_point=0 \n",
    "computer_point=0 \n",
    "\n",
    "shart_bazi=True \n",
    "\n",
    "while(shart_bazi): \n",
    "    you =input(\"entekhab kon (sang,kaqaz,qeychi):\") \n",
    "    rand=random.randint(0,2) \n",
    "    computer=bazi[rand] \n",
    "\n",
    "    if you=='sang' and computer=='kaqaz': \n",
    "        computer_point=computer_point+1 \n",
    "\n",
    "    if you=='qeychi' and computer=='kaqaz': \n",
    "        you_point=you_point+1 \n",
    "\n",
    "\n",
    "    if you=='sang' and computer=='qeychi': \n",
    "        you_point=you_point+1 \n",
    "\n",
    "    if you=='kaqaz' and computer=='qeychi': \n",
    "        computer_point=computer_point+1 \n",
    "\n",
    "\n",
    "    if you=='qeychi' and computer=='sang': \n",
    "        computer_point=computer_point+1 \n",
    "\n",
    "    if you=='kaqaz' and computer=='sang': \n",
    "        you_point=you_point+1 \n",
    "    \n",
    "    print(\"YOU: (\", you_point, \")\", you, \"     COM:(\", computer_point, \")\", computer)\n",
    "\n",
    "    if you_point>=3 or computer_point>=3: \n",
    "        shart_bazi=False \n",
    "     \n",
    "if you_point>computer_point: \n",
    "    print(\"YOU WIN!\")  \n",
    "else: \n",
    "    print(\"YOU LOSE!(\") \n",
    "   \n",
    "     \n",
    "print(\"you:\",you_point, '-',you) \n",
    "print(\"com:\", computer_point,'-',computer)"
   ]
  }
 ],
 "metadata": {
  "kernelspec": {
   "display_name": "Python 3",
   "language": "python",
   "name": "python3"
  },
  "language_info": {
   "codemirror_mode": {
    "name": "ipython",
    "version": 3
   },
   "file_extension": ".py",
   "mimetype": "text/x-python",
   "name": "python",
   "nbconvert_exporter": "python",
   "pygments_lexer": "ipython3",
   "version": "3.8.8"
  }
 },
 "nbformat": 4,
 "nbformat_minor": 2
}
