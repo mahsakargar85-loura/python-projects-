{
 "cells": [
  {
   "cell_type": "code",
   "execution_count": 10,
   "id": "7609849d",
   "metadata": {},
   "outputs": [],
   "source": [
    "import pyautogui as robot\n",
    "import time "
   ]
  },
  {
   "cell_type": "code",
   "execution_count": 18,
   "metadata": {},
   "outputs": [],
   "source": [
    "for x in range(1,10) :  \n",
    "    time.sleep(1)\n",
    "    robot.write('i love u', interval=0.1)\n",
    "    robot.press(\"enter\")"
   ]
  }
 ],
 "metadata": {
  "kernelspec": {
   "display_name": "Python 3",
   "language": "python",
   "name": "python3"
  },
  "language_info": {
   "codemirror_mode": {
    "name": "ipython",
    "version": 3
   },
   "file_extension": ".py",
   "mimetype": "text/x-python",
   "name": "python",
   "nbconvert_exporter": "python",
   "pygments_lexer": "ipython3",
   "version": "3.8.8"
  }
 },
 "nbformat": 4,
 "nbformat_minor": 5
}
